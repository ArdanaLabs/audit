{
 "cells": [
  {
   "cell_type": "markdown",
   "id": "105d599b",
   "metadata": {},
   "source": [
    "# DeX Modeling"
   ]
  },
  {
   "cell_type": "markdown",
   "id": "7087dbaf",
   "metadata": {},
   "source": [
    "A state machine is a tuple $(S, I, O, \\tau : S \\times I \\rightarrow S, \\eta : S \\times I \\rightarrow O)$ where $S$ is a set of states, $I$ is a set of inputs, $O$ is a set of outputs, $\\tau$ is a state transition function ($(s_t, i_t) \\mapsto s_{t+1}$), and $\\eta$ is the output function ($(s_t, i_t) \\mapsto o_{t}$)"
   ]
  },
  {
   "cell_type": "markdown",
   "id": "8129b6c2",
   "metadata": {},
   "source": [
    "Let's model a dex as \n",
    "$$\\text{dex} = \\left( \\mathbb{M}_{n,n}^{(\\mathbb{R}^+ \\cup \\{0\\}) \\times \\mathbb{R}^+}, 1..n \\times \\mathbb{R}^+ \\times 1..n, \\mathbb{R}^+ \\times \\mathbb{R}^+, \\tau, \\eta \\right)$$\n",
    "For set of $n \\times n$ matrices with nonnegative real 2-tuples as components (where the second component also excludes zero) as states for number of assets $n$; a 3-tuple containing an integer id of an asset to deposit, a positive real number representing how much of it to deposit, and an integer id of an asset to withdraw as inputs; a 2-tuple of positive reals representing liquidity tokens earned on the left and representing withdraw asset withdrawn on the right as outputs; transition function $\\tau$ and output function $\\eta$ to be defined. \n",
    "\n",
    "Note: make price a function of balance.\n",
    "\n",
    "$$\\forall n \\in \\mathbb{N} \\setminus \\{0, 1\\}, \\forall A \\in \\mathbb{M}_{n,n}^{(\\mathbb{R}^+ \\cup \\{0\\}) \\times \\mathbb{R}^+}, \\forall (i, j) \\in 1..n \\times 1..n, \\\\ \n",
    "\\text{fst}\\ .\\ A\\ (i, j)\\ \\text{denotes the balance of the ith asset in a pool against the jth asset, and } \\\\ \\text{snd}\\ .\\ A\\ (i, j)\\ \\text{denotes the price of the ith asset in a pool against the jth asset}.$$\n",
    "\n",
    "This model omits **pool picking**, and the **caller** (of functions $\\tau$ and $\\eta$) is the liquidity provider or swapper yet we do not track the state of the caller. \n",
    "\n",
    "Later, black boxes $\\tau_{i,j}^x$ and $\\tau_{i,j}^y$ will allow us to abstract over constant-product, constant-sum, or stableswap price updating. "
   ]
  },
  {
   "cell_type": "markdown",
   "id": "af28b6d4",
   "metadata": {},
   "source": [
    "I've been misleading. By $\\mathbb{M}_{n,n}^{(\\mathbb{R}^+ \\cup \\{0\\}) \\times \\mathbb{R}^+}$ I in fact mean only matrices with $(\\infty, \\infty)$ down the diagonal. \n",
    "\n",
    "Let's profile a step of the state machine at $n=3, \\forall t \\in \\mathbb{N}$. \n",
    "\n",
    "We have some function $\\forall i\\ j \\in 1..n, LT_{i,j} : \\mathbb{R}^+ \\rightarrow \\mathbb{R}^+$ defining the liquidity tokens you get when you deposit $a \\in \\mathbb{R}^+$ of asset $i$ against asset $j$, and some function $w_{i,j} : \\mathbb{R}^+ \\times \\mathbb{R}^+ \\rightarrow \\mathbb{R}$ defining the amount of asset $j$ you get back if you deposit $a \\in \\mathbb{R}^+$ of asset $i$ when the price of $i$ against $j$ is $y_{i,j,t} \\in \\mathbb{R}^+$.\n"
   ]
  },
  {
   "cell_type": "markdown",
   "id": "2b463085",
   "metadata": {},
   "source": [
    "$$\\tau \n",
    "\\left( \n",
    "\\begin{bmatrix} \n",
    "(\\infty, \\infty) & (x_{1,2}, y_{1,2}) & (x_{1,3}, y_{1,3}) \\\\\n",
    "(x_{2,1}, y_{2,1}) & (\\infty, \\infty) & (x_{2,3}, y_{2,3}) \\\\\n",
    "(x_{3,1}, y_{3,1}) & (x_{3,2}, y_{3,2}) & (\\infty, \\infty)\n",
    "\\end{bmatrix}_t,\n",
    "(1, a, 2)\n",
    "\\right) = \n",
    "\\begin{bmatrix} \n",
    "(\\infty, \\infty) & (x_{1,2}, y_{1,2}) & (x_{1,3}, y_{1,3}) \\\\\n",
    "(x_{2,1}, y_{2,1}) & (\\infty, \\infty) & (x_{2,3}, y_{2,3}) \\\\\n",
    "(x_{3,1}, y_{3,1}) & (x_{3,2}, y_{3,2}) & (\\infty, \\infty)\n",
    "\\end{bmatrix}_{t+1}\n",
    "$$"
   ]
  },
  {
   "cell_type": "markdown",
   "id": "166d9668",
   "metadata": {},
   "source": [
    "$$\n",
    "\\eta \n",
    "\\left(\n",
    "\\begin{bmatrix} \n",
    "(\\infty, \\infty) & (x_{1,2}, y_{1,2}) & (x_{1,3}, y_{1,3}) \\\\\n",
    "(x_{2,1}, y_{2,1}) & (\\infty, \\infty) & (x_{2,3}, y_{2,3}) \\\\\n",
    "(x_{3,1}, y_{3,1}) & (x_{3,2}, y_{3,2}) & (\\infty, \\infty)\n",
    "\\end{bmatrix}_t, \n",
    "(1, a, 2) \n",
    "\\right) = \n",
    "\\left(LT_{1,2}(a), w_{1,2}(a, y_{1,2,t})\\right)\n",
    "$$"
   ]
  },
  {
   "cell_type": "markdown",
   "id": "7abb5bef",
   "metadata": {},
   "source": [
    "#### \"The caller deposits $a$ of asset $1$ into a pool against asset $2$, gaining $LT_{1,2}(a)$ liquidity tokens and $w(a, y_{1,2,t})$ of asset $2$\"\n",
    "\n",
    "What is not pictured is $\\forall t \\in \\mathbb{N}, \\forall i\\ j \\in 1..n, \\exists \\tau_{i,j}^x : (\\mathbb{R}^+ \\cup \\{0\\}) \\times \\mathbb{R}^+ \\rightarrow (\\mathbb{R}^+ \\cup \\{0\\}), \\exists \\tau_{i,j}^y : \\mathbb{R}^+ \\times \\mathbb{R}^+ \\rightarrow \\mathbb{R}^+, \\tau_{i,j}^x(x_{i,j,t}, a) = x_{i,j,t+1} \\land \\tau_{i,j}^y(y_{i,j,t}, a) = y_{i,j,t+1}$. The subtle $t+1$ subscript on the output of $\\tau$ is sufficient to show that the value of $(x_{1,2}, y_{1,2})$ changed. "
   ]
  },
  {
   "cell_type": "markdown",
   "id": "7ddbb161",
   "metadata": {},
   "source": [
    "# Notes from the call\n",
    "\n",
    "this model is missing \n",
    "1. Part of state: `isPoolKilled` in which case the only transaciton people can do is remove liquidity\n",
    "2. Liquidity token **supply**\n",
    "3. \n",
    "\n",
    "Ben is saying sentential > functional/matrix \"b(x1) is the balance of some token x1. \n",
    "\n",
    "parameterize concepts like supply over tokens. \n",
    "\n",
    "[we're actually gonna use something like this](https://github.com/ArdanaLabs/DanaSwap/blob/b571cbc9eec17f144626f49646e0bf1e14351e3a/src/DanaSwap/Contract.hs#L268)"
   ]
  },
  {
   "cell_type": "markdown",
   "id": "8eb2f0ca",
   "metadata": {},
   "source": [
    "What if "
   ]
  },
  {
   "cell_type": "code",
   "execution_count": null,
   "id": "cb201ff5",
   "metadata": {},
   "outputs": [],
   "source": []
  },
  {
   "cell_type": "code",
   "execution_count": null,
   "id": "21200ed8",
   "metadata": {},
   "outputs": [],
   "source": []
  },
  {
   "cell_type": "code",
   "execution_count": null,
   "id": "9be76227",
   "metadata": {},
   "outputs": [],
   "source": []
  },
  {
   "cell_type": "code",
   "execution_count": null,
   "id": "2d82d9b1",
   "metadata": {},
   "outputs": [],
   "source": []
  },
  {
   "cell_type": "code",
   "execution_count": null,
   "id": "b6799bcb",
   "metadata": {},
   "outputs": [],
   "source": []
  },
  {
   "cell_type": "code",
   "execution_count": null,
   "id": "80133ada",
   "metadata": {},
   "outputs": [],
   "source": []
  },
  {
   "cell_type": "code",
   "execution_count": 61,
   "id": "819c3987",
   "metadata": {},
   "outputs": [],
   "source": [
    "import numpy as np"
   ]
  },
  {
   "cell_type": "code",
   "execution_count": 62,
   "id": "9012c4fe",
   "metadata": {},
   "outputs": [],
   "source": [
    "class Swapper: \n",
    "    def __init__(self, ):\n",
    "        pass\n",
    "    \n",
    "class LiquidityProvider: \n",
    "    def __init__(self, ): \n",
    "        pass\n",
    "    \n",
    "class DeX: \n",
    "    \"\"\"constant sum rather than stableswap, suppressing pool selection concerns.\n",
    "    \n",
    "    NOT an implementation of the above latex. \n",
    "    \"\"\"\n",
    "    def __init__(self, balances: dict):\n",
    "        self.reset(balances)\n",
    "            \n",
    "    def reset(self, balances: dict): \n",
    "        for asset_label, balance in balances.items(): \n",
    "            assert isinstance(asset_label, str)\n",
    "            assert isinstance(balance, (int, float))\n",
    "        self.balances = balances\n",
    "        self.asset_labels = list(balances.keys())\n",
    "        self.n = len(self.asset_labels)\n",
    "        self.D = sum(balances.values())\n",
    "        # balances.keys() is sort of like the row & col labels. \n",
    "        self.board = np.zeros((self.n, self.n, 2))\n",
    "        for i, label_i in enumerate(self.asset_labels): \n",
    "            for j, label_j in enumerate(self.asset_labels): \n",
    "                self.board[i, j] = [self.D - self.balances[label_i], self.D - self.balances[label_j]]\n",
    "        for i in range(self.n): \n",
    "            # You can't trade x for x\n",
    "            self.board[i, i] = [np.nan, np.nan]\n",
    "            \n",
    "    def trade(self, asset_deposit: str, amount_deposit: float, asset_withdraw: str, amount_withdraw: float): \n",
    "        assert asset_deposit in self.balances.keys() and asset_withdraw in self.balances.keys()\n",
    "        \n",
    "        assert self.balances[asset_withdraw] >= amount_withdraw\n",
    "        \n",
    "        self.reset({})"
   ]
  },
  {
   "cell_type": "code",
   "execution_count": 63,
   "id": "50fe2995",
   "metadata": {},
   "outputs": [
    {
     "name": "stdout",
     "output_type": "stream",
     "text": [
      "[[[nan nan]\n",
      "  [14. 17.]\n",
      "  [14. 11.]\n",
      "  [14. 18.]]\n",
      "\n",
      " [[17. 14.]\n",
      "  [nan nan]\n",
      "  [17. 11.]\n",
      "  [17. 18.]]\n",
      "\n",
      " [[11. 14.]\n",
      "  [11. 17.]\n",
      "  [nan nan]\n",
      "  [11. 18.]]\n",
      "\n",
      " [[18. 14.]\n",
      "  [18. 17.]\n",
      "  [18. 11.]\n",
      "  [nan nan]]]\n"
     ]
    }
   ],
   "source": [
    "# A DeX with 4 coins in it. \n",
    "dex4 = DeX({\"w\": 6., \"x\": 3., \"y\": 9., \"z\": 2.})\n",
    "print(dex4.board)\n",
    "\n",
    "dex4.trade(\"w\", 2, \"y\", 3)"
   ]
  },
  {
   "cell_type": "code",
   "execution_count": null,
   "id": "272038f9",
   "metadata": {},
   "outputs": [],
   "source": []
  },
  {
   "cell_type": "code",
   "execution_count": null,
   "id": "e702d859",
   "metadata": {},
   "outputs": [],
   "source": []
  },
  {
   "cell_type": "code",
   "execution_count": null,
   "id": "2f6da21e",
   "metadata": {},
   "outputs": [],
   "source": []
  },
  {
   "cell_type": "code",
   "execution_count": null,
   "id": "42b5e2e5",
   "metadata": {},
   "outputs": [],
   "source": []
  }
 ],
 "metadata": {
  "kernelspec": {
   "display_name": "Python 3",
   "language": "python",
   "name": "python3"
  },
  "language_info": {
   "codemirror_mode": {
    "name": "ipython",
    "version": 3
   },
   "file_extension": ".py",
   "mimetype": "text/x-python",
   "name": "python",
   "nbconvert_exporter": "python",
   "pygments_lexer": "ipython3",
   "version": "3.8.5"
  }
 },
 "nbformat": 4,
 "nbformat_minor": 5
}
