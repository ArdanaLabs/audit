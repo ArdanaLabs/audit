{
 "cells": [
  {
   "cell_type": "code",
   "execution_count": 11,
   "id": "8b23f82e-b663-4f78-b3f2-aefa3055146e",
   "metadata": {},
   "outputs": [],
   "source": [
    "from functools import partial, reduce\n",
    "product = partial(reduce, lambda x,y: x * y)\n",
    "\n",
    "from jax import numpy as jnp\n",
    "import arviz as az\n",
    "from scipy import stats\n",
    "\n",
    "from ipywidgets import interact, widgets\n",
    "from ipywidgets.widgets import IntSlider\n",
    "\n",
    "from report import Report\n",
    "from eda import intslider_wrap\n",
    "\n",
    "reportD = Report(\"data/d-10262021.csv\", abso=False, unknown_feature=\"D\")\n",
    "reportB0 = Report(\"data/b0-10262021.csv\", abso=False, unknown_feature=\"B0\")\n",
    "reportB1 = Report(\"data/b1-10262021.csv\", abso=False, unknown_feature=\"B1\")\n",
    "reportB2 = Report(\"data/b2-10262021.csv\", abso=False, unknown_feature=\"B2\")\n"
   ]
  },
  {
   "cell_type": "markdown",
   "id": "b3c62d40-e4b9-4dc6-b783-1a36f1a48635",
   "metadata": {},
   "source": [
    "# D"
   ]
  },
  {
   "cell_type": "code",
   "execution_count": 2,
   "id": "f6be0a08-58ff-4149-ba89-662c9d9cb3cd",
   "metadata": {},
   "outputs": [],
   "source": [
    "dfD = reportD.df\n",
    "\n",
    "ntrct0 = interact(colidx=intslider_wrap(IntSlider, dfD))\n",
    "ntrct1 = interact(colidx_x=intslider_wrap(IntSlider, dfD), colidx_y=intslider_wrap(IntSlider, dfD), colidx_color=intslider_wrap(IntSlider, dfD))"
   ]
  },
  {
   "cell_type": "code",
   "execution_count": 3,
   "id": "dfba9c4a-3863-4ef2-93f5-fbf0a9bd0a67",
   "metadata": {},
   "outputs": [
    {
     "data": {
      "application/vnd.jupyter.widget-view+json": {
       "model_id": "334d97d4c5a7492cbe2b8eb7a1b71c9f",
       "version_major": 2,
       "version_minor": 0
      },
      "text/plain": [
       "interactive(children=(IntSlider(value=0, description='colidx', max=8), Output()), _dom_classes=('widget-intera…"
      ]
     },
     "metadata": {},
     "output_type": "display_data"
    }
   ],
   "source": [
    "@ntrct0\n",
    "def mkscatter(colidx: int): \n",
    "    reportD._mkscatter(dfD.columns[colidx])"
   ]
  },
  {
   "cell_type": "code",
   "execution_count": 4,
   "id": "33dc4fdd-cddb-4381-9821-83fd9d56ce1e",
   "metadata": {},
   "outputs": [
    {
     "data": {
      "application/vnd.jupyter.widget-view+json": {
       "model_id": "3ed563491c5a43269daa4379b56db540",
       "version_major": 2,
       "version_minor": 0
      },
      "text/plain": [
       "interactive(children=(IntSlider(value=0, description='colidx', max=8), Output()), _dom_classes=('widget-intera…"
      ]
     },
     "metadata": {},
     "output_type": "display_data"
    }
   ],
   "source": [
    "@ntrct0\n",
    "def mkkde(colidx: int): \n",
    "    \"\"\"Kernel density estimation\"\"\"\n",
    "    reportD._mkkde(dfD.columns[colidx])"
   ]
  },
  {
   "cell_type": "code",
   "execution_count": 5,
   "id": "cb402a81-1a10-488e-b0f2-62a06825146f",
   "metadata": {},
   "outputs": [
    {
     "data": {
      "application/vnd.jupyter.widget-view+json": {
       "model_id": "1d84dd4d5ba44cc49d5341de22bb2632",
       "version_major": 2,
       "version_minor": 0
      },
      "text/plain": [
       "interactive(children=(IntSlider(value=0, description='colidx_x', max=8), IntSlider(value=0, description='colid…"
      ]
     },
     "metadata": {},
     "output_type": "display_data"
    }
   ],
   "source": [
    "# I recommend looking at colidx_x=5, coldx_y=1, colidx_color=6 \n",
    "@ntrct1\n",
    "def heatmap(colidx_x: int, colidx_y: int, colidx_color: int): \n",
    "    return reportD._heatmap(dfD.columns[colidx_x], dfD.columns[colidx_y], dfD.columns[colidx_color])"
   ]
  },
  {
   "cell_type": "code",
   "execution_count": 6,
   "id": "7d15a3b4-22fb-4395-b5c6-dab3cf94119a",
   "metadata": {},
   "outputs": [
    {
     "name": "stdout",
     "output_type": "stream",
     "text": [
      "Solver gave a negative root 0.01% of the time\n"
     ]
    }
   ],
   "source": [
    "print(reportD.report_negative_solutions())"
   ]
  },
  {
   "cell_type": "code",
   "execution_count": 18,
   "id": "053d8e13-ecfe-4c0d-ba19-bbb5433c89f3",
   "metadata": {},
   "outputs": [
    {
     "data": {
      "text/html": [
       "<div>\n",
       "<style scoped>\n",
       "    .dataframe tbody tr th:only-of-type {\n",
       "        vertical-align: middle;\n",
       "    }\n",
       "\n",
       "    .dataframe tbody tr th {\n",
       "        vertical-align: top;\n",
       "    }\n",
       "\n",
       "    .dataframe thead th {\n",
       "        text-align: right;\n",
       "    }\n",
       "</style>\n",
       "<table border=\"1\" class=\"dataframe\">\n",
       "  <thead>\n",
       "    <tr style=\"text-align: right;\">\n",
       "      <th></th>\n",
       "      <th>A</th>\n",
       "      <th>D</th>\n",
       "      <th>B0</th>\n",
       "      <th>B1</th>\n",
       "      <th>B2</th>\n",
       "      <th>Root</th>\n",
       "      <th>Y</th>\n",
       "      <th>newton_delta</th>\n",
       "      <th>squared_newton_delta</th>\n",
       "    </tr>\n",
       "  </thead>\n",
       "  <tbody>\n",
       "    <tr>\n",
       "      <th>4648</th>\n",
       "      <td>7.154015</td>\n",
       "      <td>1.729258e+11</td>\n",
       "      <td>1.511280e+10</td>\n",
       "      <td>1.817954e+10</td>\n",
       "      <td>2.837746e+10</td>\n",
       "      <td>-3.618534e+11</td>\n",
       "      <td>-8.737479e-09</td>\n",
       "      <td>5.347792e+11</td>\n",
       "      <td>2.859888e+23</td>\n",
       "    </tr>\n",
       "  </tbody>\n",
       "</table>\n",
       "</div>"
      ],
      "text/plain": [
       "             A             D            B0            B1            B2  \\\n",
       "4648  7.154015  1.729258e+11  1.511280e+10  1.817954e+10  2.837746e+10   \n",
       "\n",
       "              Root             Y  newton_delta  squared_newton_delta  \n",
       "4648 -3.618534e+11 -8.737479e-09  5.347792e+11          2.859888e+23  "
      ]
     },
     "execution_count": 18,
     "metadata": {},
     "output_type": "execute_result"
    }
   ],
   "source": [
    "# let's investigate that 0.01%\n",
    "negative_record = dfD[dfD.Root < 0]\n",
    "negative_record"
   ]
  },
  {
   "cell_type": "code",
   "execution_count": null,
   "id": "85628cc6-0a9f-4270-b3bb-77a669f23332",
   "metadata": {},
   "outputs": [],
   "source": [
    "class Aux(Report): \n",
    "    def __init__(self, filepath: str, *, unknown_feature: str, abso: bool, invariant: callable, dimensionless_invariant: callable): \n",
    "        super().__init__(filepath, unknown_feature=unknown_feature, abso=abso)\n",
    "        self.invariant = invariant\n",
    "        self.dimensionless_invariant = dimensionless_invariant\n",
    "        self.df = self.df.assign(\n",
    "            invariant_polynomial=self.invariant(self.df.A, self.df.Root, self.df.B0, self.df.B1, self.df.B2),\n",
    "            dimensionless_invariant_polynomial=self.dimensionless_invariant(self.df.A, self.df.Root, self.df.B0, self.df.B1, self.df.B2)\n",
    "        )\n",
    "        # self.invariant_polynomial_lowest_epsilon = min(10 ** (- k) for k in range(-16, 32) if (self.df.invariant_polynomial.abs() < 10 ** (- k)).sum() / self.df.shape[0] >= 0.5)\n",
    "        # self.invariant_polynomial_dimensionless_lowest_epsilon = min(10 ** (- k) for k in range(-16, 32) if (self.df.dimensionless_invariant_polynomial.abs() < 10 ** (- k)).sum() / self.df.shape[0] >= 0.5)\n",
    "        "
   ]
  },
  {
   "cell_type": "code",
   "execution_count": 41,
   "id": "f61c57fd-514a-415f-8202-b9b4d79dce40",
   "metadata": {},
   "outputs": [
    {
     "data": {
      "text/plain": [
       "-3.1691265005705735e+30"
      ]
     },
     "execution_count": 41,
     "metadata": {},
     "output_type": "execute_result"
    }
   ],
   "source": [
    "# according to my research, the zeros are equal to the zeros of this function\n",
    "def invariant_D(A: float, D: float, *balances: list) -> float: \n",
    "    n = len(balances)\n",
    "    n_raised_2n = n ** (2 * n)\n",
    "    return (\n",
    "        D ** (n + 1) \n",
    "        + \n",
    "        (A - 1 / n ** n) * n_raised_2n * product(balances) * D \n",
    "        + \n",
    "        (- A * n_raised_2n * product(balances) * sum(balances))\n",
    "    )\n",
    "invariant_D(negative_record.A, negative_record.Root, negative_record.B0, negative_record.B1, negative_record.B2).values[0]"
   ]
  },
  {
   "cell_type": "code",
   "execution_count": null,
   "id": "c51026f0-13ba-4f63-9688-6be3cfc52572",
   "metadata": {},
   "outputs": [],
   "source": [
    "# Theory does not line up with reality. "
   ]
  },
  {
   "cell_type": "code",
   "execution_count": 37,
   "id": "8453949e-dfa9-494d-89ea-7d5cda2019d5",
   "metadata": {},
   "outputs": [
    {
     "data": {
      "text/plain": [
       "3.410605131648481e-13"
      ]
     },
     "execution_count": 37,
     "metadata": {},
     "output_type": "execute_result"
    }
   ],
   "source": [
    "# For posteriry: the dimensionless version\n",
    "def invariant_D_dimensionless(A: float, D: float, *balances: list) -> float: \n",
    "    \"\"\"Invariant polynomial divided by product of balances and then divided by D. \n",
    "    \n",
    "    My invariant polynomial is of units $ ^ (n + 1), if you squint, \n",
    "    and the dimensionless version is of unit $ ^ 0\n",
    "    \"\"\"\n",
    "    n = len(balances)\n",
    "    n_raised_2n = n ** (2 * n)\n",
    "    return (\n",
    "        product(D / b for b in balances)\n",
    "        +\n",
    "        (A - 1 / n ** n) * n_raised_2n\n",
    "        + \n",
    "        (- A * n_raised_2n * sum(balances) / D)\n",
    "    )\n",
    "invariant_D_dimensionless(negative_record.A, negative_record.Root, negative_record.B0, negative_record.B1, negative_record.B2).values[0]"
   ]
  },
  {
   "cell_type": "code",
   "execution_count": null,
   "id": "95f4d7f3-d2d8-4d1f-966d-49f10d6f7032",
   "metadata": {},
   "outputs": [],
   "source": [
    "auxD = Aux(\"data/d-10262021.csv\", abso=False, unknown_feature=\"D\", invariant=invariant_D, dimensionless_invariant=invariant_D_dimensionless)"
   ]
  },
  {
   "cell_type": "code",
   "execution_count": 89,
   "id": "eaf0c013-7804-4edc-ac31-8c3d456361aa",
   "metadata": {},
   "outputs": [
    {
     "data": {
      "image/png": "[encoded data removed]",
      "text/plain": [
       "<Figure size 432x288 with 1 Axes>"
      ]
     },
     "metadata": {
      "needs_background": "light"
     },
     "output_type": "display_data"
    }
   ],
   "source": [
    "# which to be fair is mostly that low. \n",
    "az.plot_kde(auxD.df.invariant_polynomial.values, rug=True);"
   ]
  },
  {
   "cell_type": "code",
   "execution_count": 91,
   "id": "01a804ce-8db6-47f5-a8dc-8e6fa2739d99",
   "metadata": {},
   "outputs": [
    {
     "data": {
      "image/png": "[encoded data removed]",
      "text/plain": [
       "<Figure size 432x288 with 1 Axes>"
      ]
     },
     "metadata": {
      "needs_background": "light"
     },
     "output_type": "display_data"
    }
   ],
   "source": [
    "az.plot_kde(auxD.df.dimensionless_invariant_polynomial.values, rug=True);"
   ]
  },
  {
   "cell_type": "code",
   "execution_count": 92,
   "id": "ef1cc70b-4a2f-447f-aa5c-609d2a65ded4",
   "metadata": {},
   "outputs": [
    {
     "data": {
      "text/plain": [
       "0.4156"
      ]
     },
     "execution_count": 92,
     "metadata": {},
     "output_type": "execute_result"
    }
   ],
   "source": [
    "# at epsilon 1e-32, dimensionless invariant is solid 41 % of the time\n",
    "(auxD.df.dimensionless_invariant_polynomial.abs() < 1e-32).sum() / dfD.shape[0]"
   ]
  },
  {
   "cell_type": "code",
   "execution_count": 93,
   "id": "3cb3dccf-66e0-4e96-93b8-8984e6052d5e",
   "metadata": {},
   "outputs": [
    {
     "data": {
      "text/plain": [
       "0.3891"
      ]
     },
     "execution_count": 93,
     "metadata": {},
     "output_type": "execute_result"
    }
   ],
   "source": [
    "# At the same epsilon, the invariant of dimension $ ^ (n + 1) is solid 39% of the time\n",
    "(auxD.df.invariant_polynomial.abs() < 1e-32).sum() / dfD.shape[0]"
   ]
  },
  {
   "cell_type": "code",
   "execution_count": 95,
   "id": "3a1a01f4-e952-48e8-834c-3865b3f4009b",
   "metadata": {},
   "outputs": [],
   "source": [
    "# Out of time before meeting with morgan to write the code that tries to optimize this epsilon"
   ]
  },
  {
   "cell_type": "markdown",
   "id": "1053ea2f-240d-490c-b15a-9b06840fd757",
   "metadata": {},
   "source": [
    "# B0"
   ]
  },
  {
   "cell_type": "code",
   "execution_count": 143,
   "id": "6d87f239-1218-407c-ba58-d35fbb031028",
   "metadata": {},
   "outputs": [],
   "source": [
    "dfB0 = reportB0.df\n",
    "\n",
    "ntrct0_B0 = interact(colidx=intslider_wrap(IntSlider, dfB0))\n",
    "ntrct1_B0 = interact(colidx_x=intslider_wrap(IntSlider, dfB0), colidx_y=intslider_wrap(IntSlider, dfB0), colidx_color=intslider_wrap(IntSlider, dfB0))"
   ]
  },
  {
   "cell_type": "code",
   "execution_count": 144,
   "id": "245863f7-9185-498a-b8f0-bf0024a325c2",
   "metadata": {},
   "outputs": [
    {
     "data": {
      "application/vnd.jupyter.widget-view+json": {
       "model_id": "5618e777e72a48b396dc77a63dce67bd",
       "version_major": 2,
       "version_minor": 0
      },
      "text/plain": [
       "interactive(children=(IntSlider(value=0, description='colidx', max=8), Output()), _dom_classes=('widget-intera…"
      ]
     },
     "metadata": {},
     "output_type": "display_data"
    }
   ],
   "source": [
    "@ntrct0_B0\n",
    "def mkscatter_B0(colidx: int): \n",
    "    reportB0._mkscatter(dfB0.columns[colidx])"
   ]
  },
  {
   "cell_type": "code",
   "execution_count": 145,
   "id": "c37293fd-4ed7-480d-a9f5-14bc0c903426",
   "metadata": {},
   "outputs": [
    {
     "data": {
      "application/vnd.jupyter.widget-view+json": {
       "model_id": "593d8035df974012acd40f2260bf8352",
       "version_major": 2,
       "version_minor": 0
      },
      "text/plain": [
       "interactive(children=(IntSlider(value=0, description='colidx', max=8), Output()), _dom_classes=('widget-intera…"
      ]
     },
     "metadata": {},
     "output_type": "display_data"
    }
   ],
   "source": [
    "@ntrct0_B0\n",
    "def mkkde_B0(colidx: int): \n",
    "    \"\"\"Kernel density estimation\"\"\"\n",
    "    reportB0._mkkde(dfB0.columns[colidx])"
   ]
  },
  {
   "cell_type": "code",
   "execution_count": 155,
   "id": "3acc5646-7cd8-4d51-b2a8-038ccce2c0b5",
   "metadata": {},
   "outputs": [
    {
     "data": {
      "application/vnd.jupyter.widget-view+json": {
       "model_id": "0f741e756bf74df6b286fa833ae9b7c9",
       "version_major": 2,
       "version_minor": 0
      },
      "text/plain": [
       "interactive(children=(IntSlider(value=5, description='colidx_x', max=8), IntSlider(value=2, description='colid…"
      ]
     },
     "metadata": {},
     "output_type": "display_data"
    }
   ],
   "source": [
    "# I recommend looking at colidx_x=5, coldx_y=2, colidx_color=6 \n",
    "@ntrct1_B0\n",
    "def heatmap(colidx_x: int, colidx_y: int, colidx_color: int): \n",
    "    return reportB0._heatmap(dfB0.columns[colidx_x], dfB0.columns[colidx_y], dfB0.columns[colidx_color])"
   ]
  },
  {
   "cell_type": "code",
   "execution_count": 103,
   "id": "ce9f8188-8a21-480a-8a87-628445611678",
   "metadata": {},
   "outputs": [
    {
     "name": "stdout",
     "output_type": "stream",
     "text": [
      "Solver gave a negative root 15.24% of the time\n"
     ]
    },
    {
     "data": {
      "text/html": [
       "<div>\n",
       "<style scoped>\n",
       "    .dataframe tbody tr th:only-of-type {\n",
       "        vertical-align: middle;\n",
       "    }\n",
       "\n",
       "    .dataframe tbody tr th {\n",
       "        vertical-align: top;\n",
       "    }\n",
       "\n",
       "    .dataframe thead th {\n",
       "        text-align: right;\n",
       "    }\n",
       "</style>\n",
       "<table border=\"1\" class=\"dataframe\">\n",
       "  <thead>\n",
       "    <tr style=\"text-align: right;\">\n",
       "      <th></th>\n",
       "      <th>A</th>\n",
       "      <th>D</th>\n",
       "      <th>B0</th>\n",
       "      <th>B1</th>\n",
       "      <th>B2</th>\n",
       "      <th>Root</th>\n",
       "      <th>Y</th>\n",
       "      <th>newton_delta</th>\n",
       "      <th>squared_newton_delta</th>\n",
       "    </tr>\n",
       "  </thead>\n",
       "  <tbody>\n",
       "    <tr>\n",
       "      <th>6</th>\n",
       "      <td>2.761841</td>\n",
       "      <td>2.981154e+11</td>\n",
       "      <td>5.227535e+10</td>\n",
       "      <td>9.554543e+10</td>\n",
       "      <td>6.647119e+10</td>\n",
       "      <td>-4.521133e+09</td>\n",
       "      <td>-1.548203e-07</td>\n",
       "      <td>5.679648e+10</td>\n",
       "      <td>3.225841e+21</td>\n",
       "    </tr>\n",
       "    <tr>\n",
       "      <th>9</th>\n",
       "      <td>1.748798</td>\n",
       "      <td>2.385252e+11</td>\n",
       "      <td>2.610357e+10</td>\n",
       "      <td>1.477807e+10</td>\n",
       "      <td>1.638546e+11</td>\n",
       "      <td>-1.501116e+10</td>\n",
       "      <td>-9.185547e-10</td>\n",
       "      <td>4.111473e+10</td>\n",
       "      <td>1.690421e+21</td>\n",
       "    </tr>\n",
       "    <tr>\n",
       "      <th>19</th>\n",
       "      <td>6.871461</td>\n",
       "      <td>3.806703e+11</td>\n",
       "      <td>2.159605e+10</td>\n",
       "      <td>8.638521e+10</td>\n",
       "      <td>1.306443e+11</td>\n",
       "      <td>-2.266875e+09</td>\n",
       "      <td>-7.545308e-07</td>\n",
       "      <td>2.386292e+10</td>\n",
       "      <td>5.694390e+20</td>\n",
       "    </tr>\n",
       "    <tr>\n",
       "      <th>21</th>\n",
       "      <td>1.306911</td>\n",
       "      <td>2.201613e+11</td>\n",
       "      <td>4.917254e+10</td>\n",
       "      <td>8.332048e+10</td>\n",
       "      <td>2.095746e+09</td>\n",
       "      <td>-7.084168e+10</td>\n",
       "      <td>-2.334858e-09</td>\n",
       "      <td>1.200142e+11</td>\n",
       "      <td>1.440341e+22</td>\n",
       "    </tr>\n",
       "    <tr>\n",
       "      <th>27</th>\n",
       "      <td>5.003352</td>\n",
       "      <td>3.575170e+11</td>\n",
       "      <td>9.232462e+10</td>\n",
       "      <td>6.675205e+10</td>\n",
       "      <td>5.991368e+10</td>\n",
       "      <td>-4.806517e+09</td>\n",
       "      <td>-3.058321e-07</td>\n",
       "      <td>9.713114e+10</td>\n",
       "      <td>9.434458e+21</td>\n",
       "    </tr>\n",
       "    <tr>\n",
       "      <th>...</th>\n",
       "      <td>...</td>\n",
       "      <td>...</td>\n",
       "      <td>...</td>\n",
       "      <td>...</td>\n",
       "      <td>...</td>\n",
       "      <td>...</td>\n",
       "      <td>...</td>\n",
       "      <td>...</td>\n",
       "      <td>...</td>\n",
       "    </tr>\n",
       "    <tr>\n",
       "      <th>9958</th>\n",
       "      <td>5.229613</td>\n",
       "      <td>4.068118e+11</td>\n",
       "      <td>5.638640e+10</td>\n",
       "      <td>6.784622e+10</td>\n",
       "      <td>1.004073e+11</td>\n",
       "      <td>-4.392870e+09</td>\n",
       "      <td>-4.592855e-07</td>\n",
       "      <td>6.077927e+10</td>\n",
       "      <td>3.694120e+21</td>\n",
       "    </tr>\n",
       "    <tr>\n",
       "      <th>9970</th>\n",
       "      <td>0.880421</td>\n",
       "      <td>4.862711e+11</td>\n",
       "      <td>4.657358e+08</td>\n",
       "      <td>8.382879e+10</td>\n",
       "      <td>1.371555e+11</td>\n",
       "      <td>-2.779246e+10</td>\n",
       "      <td>-6.323585e-08</td>\n",
       "      <td>2.825820e+10</td>\n",
       "      <td>7.985257e+20</td>\n",
       "    </tr>\n",
       "    <tr>\n",
       "      <th>9982</th>\n",
       "      <td>1.498392</td>\n",
       "      <td>5.465826e+11</td>\n",
       "      <td>1.354699e+11</td>\n",
       "      <td>9.755697e+10</td>\n",
       "      <td>6.081558e+10</td>\n",
       "      <td>-3.372020e+10</td>\n",
       "      <td>-3.836964e-08</td>\n",
       "      <td>1.691901e+11</td>\n",
       "      <td>2.862530e+22</td>\n",
       "    </tr>\n",
       "    <tr>\n",
       "      <th>9989</th>\n",
       "      <td>2.046654</td>\n",
       "      <td>4.047818e+11</td>\n",
       "      <td>5.565246e+10</td>\n",
       "      <td>1.515010e+11</td>\n",
       "      <td>7.927647e+10</td>\n",
       "      <td>-8.549614e+09</td>\n",
       "      <td>-2.382907e-07</td>\n",
       "      <td>6.420208e+10</td>\n",
       "      <td>4.121907e+21</td>\n",
       "    </tr>\n",
       "    <tr>\n",
       "      <th>9996</th>\n",
       "      <td>2.352748</td>\n",
       "      <td>5.564548e+11</td>\n",
       "      <td>1.404047e+11</td>\n",
       "      <td>7.729433e+10</td>\n",
       "      <td>9.710688e+10</td>\n",
       "      <td>-1.898556e+10</td>\n",
       "      <td>-3.516310e-07</td>\n",
       "      <td>1.593903e+11</td>\n",
       "      <td>2.540527e+22</td>\n",
       "    </tr>\n",
       "  </tbody>\n",
       "</table>\n",
       "<p>1524 rows × 9 columns</p>\n",
       "</div>"
      ],
      "text/plain": [
       "             A             D            B0            B1            B2  \\\n",
       "6     2.761841  2.981154e+11  5.227535e+10  9.554543e+10  6.647119e+10   \n",
       "9     1.748798  2.385252e+11  2.610357e+10  1.477807e+10  1.638546e+11   \n",
       "19    6.871461  3.806703e+11  2.159605e+10  8.638521e+10  1.306443e+11   \n",
       "21    1.306911  2.201613e+11  4.917254e+10  8.332048e+10  2.095746e+09   \n",
       "27    5.003352  3.575170e+11  9.232462e+10  6.675205e+10  5.991368e+10   \n",
       "...        ...           ...           ...           ...           ...   \n",
       "9958  5.229613  4.068118e+11  5.638640e+10  6.784622e+10  1.004073e+11   \n",
       "9970  0.880421  4.862711e+11  4.657358e+08  8.382879e+10  1.371555e+11   \n",
       "9982  1.498392  5.465826e+11  1.354699e+11  9.755697e+10  6.081558e+10   \n",
       "9989  2.046654  4.047818e+11  5.565246e+10  1.515010e+11  7.927647e+10   \n",
       "9996  2.352748  5.564548e+11  1.404047e+11  7.729433e+10  9.710688e+10   \n",
       "\n",
       "              Root             Y  newton_delta  squared_newton_delta  \n",
       "6    -4.521133e+09 -1.548203e-07  5.679648e+10          3.225841e+21  \n",
       "9    -1.501116e+10 -9.185547e-10  4.111473e+10          1.690421e+21  \n",
       "19   -2.266875e+09 -7.545308e-07  2.386292e+10          5.694390e+20  \n",
       "21   -7.084168e+10 -2.334858e-09  1.200142e+11          1.440341e+22  \n",
       "27   -4.806517e+09 -3.058321e-07  9.713114e+10          9.434458e+21  \n",
       "...            ...           ...           ...                   ...  \n",
       "9958 -4.392870e+09 -4.592855e-07  6.077927e+10          3.694120e+21  \n",
       "9970 -2.779246e+10 -6.323585e-08  2.825820e+10          7.985257e+20  \n",
       "9982 -3.372020e+10 -3.836964e-08  1.691901e+11          2.862530e+22  \n",
       "9989 -8.549614e+09 -2.382907e-07  6.420208e+10          4.121907e+21  \n",
       "9996 -1.898556e+10 -3.516310e-07  1.593903e+11          2.540527e+22  \n",
       "\n",
       "[1524 rows x 9 columns]"
      ]
     },
     "execution_count": 103,
     "metadata": {},
     "output_type": "execute_result"
    }
   ],
   "source": [
    "print(reportB0.report_negative_solutions())\n",
    "# let's investigate that 0.01%\n",
    "negative_record = dfB0[dfB0.Root < 0]\n",
    "negative_record"
   ]
  },
  {
   "cell_type": "code",
   "execution_count": 153,
   "id": "ddc1d5da-1fc7-42a5-947a-f4f6046b8428",
   "metadata": {},
   "outputs": [
    {
     "data": {
      "text/plain": [
       "<AxesSubplot:>"
      ]
     },
     "execution_count": 153,
     "metadata": {},
     "output_type": "execute_result"
    },
    {
     "data": {
      "image/png": "[encoded data removed]",
      "text/plain": [
       "<Figure size 432x288 with 1 Axes>"
      ]
     },
     "metadata": {
      "needs_background": "light"
     },
     "output_type": "display_data"
    }
   ],
   "source": [
    "az.plot_kde(dfB0[stats.zscore(dfB0.Root) < 3].Root, rug=True)"
   ]
  },
  {
   "cell_type": "code",
   "execution_count": 109,
   "id": "4e252cd3-42c2-4f9f-9f50-721843bd889e",
   "metadata": {},
   "outputs": [],
   "source": [
    "class AuxB0(Report): \n",
    "    def __init__(self, filepath: str, *, unknown_feature: str, abso: bool, invariant: callable, dimensionless_invariant: callable): \n",
    "        super().__init__(filepath, unknown_feature=unknown_feature, abso=abso)\n",
    "        self.invariant = invariant\n",
    "        self.dimensionless_invariant = dimensionless_invariant\n",
    "        self.df = self.df.assign(\n",
    "            invariant_polynomial=self.invariant(self.df.A, self.df.D, self.df.Root, self.df.B1, self.df.B2),\n",
    "            dimensionless_invariant_polynomial=self.dimensionless_invariant(self.df.A, self.df.D, self.df.Root, self.df.B1, self.df.B2)\n",
    "        )\n",
    "\n",
    "def invariant_B0(A: float, D: float, b0: float, b1: float, b2: float) -> float: \n",
    "    return b0 ** 2 + (b1 + b2 + (1 / A / 3 ** 3 - 1) * D) * b0 + (- D ** (3 + 1) / A / 3 ** (2 * 3) / b1 / b2)\n",
    "\n",
    "def invariant_B0_dimensionless(A: float, D: float, b0: float, b1: float, b2: float) -> float: \n",
    "    \"\"\"Hit it with fun x->x/D^2 \"\"\"\n",
    "    return (b0 / D) ** 2 + (b1 + b2 + (1 / A / 3 ** 3 - 1) / D) * b0 + (- D ** (1 + 1) / A / 3 ** (2 * 3) / b1 / b2)\n",
    "auxb0 = AuxB0(\"data/b0-10262021.csv\", abso=False, unknown_feature=\"B0\", invariant=invariant_B0, dimensionless_invariant=invariant_B0_dimensionless)"
   ]
  },
  {
   "cell_type": "code",
   "execution_count": 111,
   "id": "321c7c2b-e043-4439-979a-7847e7f17f6a",
   "metadata": {},
   "outputs": [
    {
     "data": {
      "image/png": "[encoded data removed]",
      "text/plain": [
       "<Figure size 432x288 with 1 Axes>"
      ]
     },
     "metadata": {
      "needs_background": "light"
     },
     "output_type": "display_data"
    }
   ],
   "source": [
    "# which to be fair is mostly that low. \n",
    "az.plot_kde(auxb0.df.invariant_polynomial.values, rug=True);"
   ]
  },
  {
   "cell_type": "code",
   "execution_count": 112,
   "id": "196bda41-9a4b-48f7-a369-76f025e2007a",
   "metadata": {},
   "outputs": [
    {
     "data": {
      "image/png": "[encoded data removed]",
      "text/plain": [
       "<Figure size 432x288 with 1 Axes>"
      ]
     },
     "metadata": {
      "needs_background": "light"
     },
     "output_type": "display_data"
    }
   ],
   "source": [
    "az.plot_kde(auxb0.df.dimensionless_invariant_polynomial.values, rug=True);"
   ]
  },
  {
   "cell_type": "code",
   "execution_count": 123,
   "id": "79662979-6d52-4d71-958d-9e4864e20094",
   "metadata": {},
   "outputs": [
    {
     "data": {
      "text/plain": [
       "0.0"
      ]
     },
     "execution_count": 123,
     "metadata": {},
     "output_type": "execute_result"
    }
   ],
   "source": [
    "# at epsilon 1e-32, dimensionless invariant is solid 0 % of the time\n",
    "(auxb0.df.dimensionless_invariant_polynomial.abs() < auxb0.df.Y.abs()).sum() / auxb0.df.shape[0]"
   ]
  },
  {
   "cell_type": "code",
   "execution_count": 122,
   "id": "d8363f73-3306-4a1d-b1a0-6766792e32ec",
   "metadata": {},
   "outputs": [
    {
     "data": {
      "text/plain": [
       "0.1496"
      ]
     },
     "execution_count": 122,
     "metadata": {},
     "output_type": "execute_result"
    }
   ],
   "source": [
    "# At the same epsilon, the invariant of dimension $ ^ (n + 1) is solid 14% of the time\n",
    "(auxb0.df.invariant_polynomial.abs() < auxb0.df.Y.abs()).sum() / auxb0.df.shape[0]"
   ]
  },
  {
   "cell_type": "markdown",
   "id": "fb4b8676-6100-418f-bb58-316b4eab6b2a",
   "metadata": {},
   "source": [
    "# B1 and B2 should be exactly the same"
   ]
  },
  {
   "cell_type": "code",
   "execution_count": 120,
   "id": "7b8f0ce5-039a-4527-8adb-052460d65b33",
   "metadata": {},
   "outputs": [
    {
     "name": "stdout",
     "output_type": "stream",
     "text": [
      "Solver gave a negative root 14.6% of the time\n"
     ]
    },
    {
     "data": {
      "text/html": [
       "<div>\n",
       "<style scoped>\n",
       "    .dataframe tbody tr th:only-of-type {\n",
       "        vertical-align: middle;\n",
       "    }\n",
       "\n",
       "    .dataframe tbody tr th {\n",
       "        vertical-align: top;\n",
       "    }\n",
       "\n",
       "    .dataframe thead th {\n",
       "        text-align: right;\n",
       "    }\n",
       "</style>\n",
       "<table border=\"1\" class=\"dataframe\">\n",
       "  <thead>\n",
       "    <tr style=\"text-align: right;\">\n",
       "      <th></th>\n",
       "      <th>A</th>\n",
       "      <th>D</th>\n",
       "      <th>B0</th>\n",
       "      <th>B1</th>\n",
       "      <th>B2</th>\n",
       "      <th>Root</th>\n",
       "      <th>Y</th>\n",
       "      <th>newton_delta</th>\n",
       "      <th>squared_newton_delta</th>\n",
       "    </tr>\n",
       "  </thead>\n",
       "  <tbody>\n",
       "    <tr>\n",
       "      <th>0</th>\n",
       "      <td>0.947686</td>\n",
       "      <td>4.665698e+11</td>\n",
       "      <td>1.010696e+10</td>\n",
       "      <td>2.376084e+10</td>\n",
       "      <td>6.083186e+10</td>\n",
       "      <td>-1.949301e+11</td>\n",
       "      <td>-3.085503e-09</td>\n",
       "      <td>2.186910e+11</td>\n",
       "      <td>4.782574e+22</td>\n",
       "    </tr>\n",
       "    <tr>\n",
       "      <th>2</th>\n",
       "      <td>3.049860</td>\n",
       "      <td>3.375096e+11</td>\n",
       "      <td>6.524776e+10</td>\n",
       "      <td>4.895298e+10</td>\n",
       "      <td>1.112820e+11</td>\n",
       "      <td>-4.966386e+09</td>\n",
       "      <td>-2.163730e-07</td>\n",
       "      <td>5.391936e+10</td>\n",
       "      <td>2.907298e+21</td>\n",
       "    </tr>\n",
       "    <tr>\n",
       "      <th>5</th>\n",
       "      <td>3.230134</td>\n",
       "      <td>4.225037e+11</td>\n",
       "      <td>1.425519e+11</td>\n",
       "      <td>7.142018e+10</td>\n",
       "      <td>6.556592e+10</td>\n",
       "      <td>-6.695648e+09</td>\n",
       "      <td>-3.314742e-07</td>\n",
       "      <td>7.811583e+10</td>\n",
       "      <td>6.102083e+21</td>\n",
       "    </tr>\n",
       "    <tr>\n",
       "      <th>17</th>\n",
       "      <td>2.374701</td>\n",
       "      <td>2.731083e+11</td>\n",
       "      <td>1.751239e+11</td>\n",
       "      <td>1.270613e+10</td>\n",
       "      <td>4.409574e+10</td>\n",
       "      <td>-7.309002e+09</td>\n",
       "      <td>-5.019537e-08</td>\n",
       "      <td>2.001513e+10</td>\n",
       "      <td>4.006056e+20</td>\n",
       "    </tr>\n",
       "    <tr>\n",
       "      <th>18</th>\n",
       "      <td>2.769905</td>\n",
       "      <td>3.008512e+11</td>\n",
       "      <td>1.481929e+11</td>\n",
       "      <td>2.389257e+10</td>\n",
       "      <td>7.481818e+10</td>\n",
       "      <td>-4.662530e+09</td>\n",
       "      <td>-2.217639e-07</td>\n",
       "      <td>2.855510e+10</td>\n",
       "      <td>8.153936e+20</td>\n",
       "    </tr>\n",
       "    <tr>\n",
       "      <th>...</th>\n",
       "      <td>...</td>\n",
       "      <td>...</td>\n",
       "      <td>...</td>\n",
       "      <td>...</td>\n",
       "      <td>...</td>\n",
       "      <td>...</td>\n",
       "      <td>...</td>\n",
       "      <td>...</td>\n",
       "      <td>...</td>\n",
       "    </tr>\n",
       "    <tr>\n",
       "      <th>9968</th>\n",
       "      <td>0.834007</td>\n",
       "      <td>2.935668e+11</td>\n",
       "      <td>3.066982e+10</td>\n",
       "      <td>1.163752e+11</td>\n",
       "      <td>6.928710e+09</td>\n",
       "      <td>-1.473103e+11</td>\n",
       "      <td>-6.417081e-10</td>\n",
       "      <td>2.636855e+11</td>\n",
       "      <td>6.953002e+22</td>\n",
       "    </tr>\n",
       "    <tr>\n",
       "      <th>9973</th>\n",
       "      <td>0.189989</td>\n",
       "      <td>5.849970e+11</td>\n",
       "      <td>1.118977e+11</td>\n",
       "      <td>6.961937e+09</td>\n",
       "      <td>2.323137e+11</td>\n",
       "      <td>-1.277935e+11</td>\n",
       "      <td>-7.799440e-08</td>\n",
       "      <td>1.347554e+11</td>\n",
       "      <td>1.815901e+22</td>\n",
       "    </tr>\n",
       "    <tr>\n",
       "      <th>9974</th>\n",
       "      <td>2.847247</td>\n",
       "      <td>3.074011e+11</td>\n",
       "      <td>1.092751e+11</td>\n",
       "      <td>2.860345e+10</td>\n",
       "      <td>1.135055e+11</td>\n",
       "      <td>-4.094166e+09</td>\n",
       "      <td>-1.959203e-07</td>\n",
       "      <td>3.269762e+10</td>\n",
       "      <td>1.069134e+21</td>\n",
       "    </tr>\n",
       "    <tr>\n",
       "      <th>9979</th>\n",
       "      <td>2.617537</td>\n",
       "      <td>1.758211e+11</td>\n",
       "      <td>9.007331e+09</td>\n",
       "      <td>1.801129e+10</td>\n",
       "      <td>6.893732e+10</td>\n",
       "      <td>-7.814815e+09</td>\n",
       "      <td>-1.996209e-10</td>\n",
       "      <td>2.582610e+10</td>\n",
       "      <td>6.669876e+20</td>\n",
       "    </tr>\n",
       "    <tr>\n",
       "      <th>9980</th>\n",
       "      <td>4.492544</td>\n",
       "      <td>3.524864e+11</td>\n",
       "      <td>2.719774e+10</td>\n",
       "      <td>1.227143e+11</td>\n",
       "      <td>6.413635e+10</td>\n",
       "      <td>-1.007080e+10</td>\n",
       "      <td>-1.656484e-07</td>\n",
       "      <td>1.327851e+11</td>\n",
       "      <td>1.763188e+22</td>\n",
       "    </tr>\n",
       "  </tbody>\n",
       "</table>\n",
       "<p>1460 rows × 9 columns</p>\n",
       "</div>"
      ],
      "text/plain": [
       "             A             D            B0            B1            B2  \\\n",
       "0     0.947686  4.665698e+11  1.010696e+10  2.376084e+10  6.083186e+10   \n",
       "2     3.049860  3.375096e+11  6.524776e+10  4.895298e+10  1.112820e+11   \n",
       "5     3.230134  4.225037e+11  1.425519e+11  7.142018e+10  6.556592e+10   \n",
       "17    2.374701  2.731083e+11  1.751239e+11  1.270613e+10  4.409574e+10   \n",
       "18    2.769905  3.008512e+11  1.481929e+11  2.389257e+10  7.481818e+10   \n",
       "...        ...           ...           ...           ...           ...   \n",
       "9968  0.834007  2.935668e+11  3.066982e+10  1.163752e+11  6.928710e+09   \n",
       "9973  0.189989  5.849970e+11  1.118977e+11  6.961937e+09  2.323137e+11   \n",
       "9974  2.847247  3.074011e+11  1.092751e+11  2.860345e+10  1.135055e+11   \n",
       "9979  2.617537  1.758211e+11  9.007331e+09  1.801129e+10  6.893732e+10   \n",
       "9980  4.492544  3.524864e+11  2.719774e+10  1.227143e+11  6.413635e+10   \n",
       "\n",
       "              Root             Y  newton_delta  squared_newton_delta  \n",
       "0    -1.949301e+11 -3.085503e-09  2.186910e+11          4.782574e+22  \n",
       "2    -4.966386e+09 -2.163730e-07  5.391936e+10          2.907298e+21  \n",
       "5    -6.695648e+09 -3.314742e-07  7.811583e+10          6.102083e+21  \n",
       "17   -7.309002e+09 -5.019537e-08  2.001513e+10          4.006056e+20  \n",
       "18   -4.662530e+09 -2.217639e-07  2.855510e+10          8.153936e+20  \n",
       "...            ...           ...           ...                   ...  \n",
       "9968 -1.473103e+11 -6.417081e-10  2.636855e+11          6.953002e+22  \n",
       "9973 -1.277935e+11 -7.799440e-08  1.347554e+11          1.815901e+22  \n",
       "9974 -4.094166e+09 -1.959203e-07  3.269762e+10          1.069134e+21  \n",
       "9979 -7.814815e+09 -1.996209e-10  2.582610e+10          6.669876e+20  \n",
       "9980 -1.007080e+10 -1.656484e-07  1.327851e+11          1.763188e+22  \n",
       "\n",
       "[1460 rows x 9 columns]"
      ]
     },
     "execution_count": 120,
     "metadata": {},
     "output_type": "execute_result"
    }
   ],
   "source": [
    "dfB1 = reportB1.df\n",
    "\n",
    "print(reportB1.report_negative_solutions())\n",
    "# let's investigate that 0.01%\n",
    "negative_record = dfB1[dfB1.Root < 0]\n",
    "negative_record"
   ]
  },
  {
   "cell_type": "code",
   "execution_count": null,
   "id": "f643d933-cd53-4a36-8ccd-4d5141382a8b",
   "metadata": {},
   "outputs": [],
   "source": []
  },
  {
   "cell_type": "code",
   "execution_count": 125,
   "id": "811911d2-a6e2-47f9-a57b-806fba8096da",
   "metadata": {},
   "outputs": [
    {
     "data": {
      "text/plain": [
       "0       3.986112e+107\n",
       "1       2.053407e+108\n",
       "2       1.631332e+106\n",
       "3       6.693374e+112\n",
       "4       1.063035e+113\n",
       "            ...      \n",
       "9995    5.470156e+112\n",
       "9996    2.843839e+114\n",
       "9997    7.449897e+110\n",
       "9998    3.626554e+109\n",
       "9999    2.018063e+112\n",
       "Name: B0, Length: 10000, dtype: float64"
      ]
     },
     "execution_count": 125,
     "metadata": {},
     "output_type": "execute_result"
    }
   ],
   "source": [
    "dfD.B0 ** 10"
   ]
  },
  {
   "cell_type": "code",
   "execution_count": 126,
   "id": "5e7c88c6-3f0e-4f93-8795-028b63664fa3",
   "metadata": {},
   "outputs": [
    {
     "data": {
      "text/plain": [
       "0       2.217737e+122\n",
       "1       4.962554e+120\n",
       "2       1.340782e+125\n",
       "3       2.188777e+121\n",
       "4       2.223463e+125\n",
       "            ...      \n",
       "9995    1.407789e+123\n",
       "9996    1.192433e+117\n",
       "9997    5.697693e+125\n",
       "9998    4.279507e+123\n",
       "9999    1.286855e+127\n",
       "Name: D, Length: 10000, dtype: float64"
      ]
     },
     "execution_count": 126,
     "metadata": {},
     "output_type": "execute_result"
    }
   ],
   "source": [
    "dfD.D ** (10 + 1)"
   ]
  },
  {
   "cell_type": "code",
   "execution_count": null,
   "id": "9b8f4ac5-2bac-4d43-b4e3-edd95b338022",
   "metadata": {},
   "outputs": [],
   "source": [
    "# according to my research, the zeros are equal to the zeros of this function\n",
    "def invariant_D(A: float, D: float, *balances: list) -> float: \n",
    "    n = len(balances)\n",
    "    n_raised_2n = n ** (2 * n)\n",
    "    return (\n",
    "        D ** (n + 1) \n",
    "        + \n",
    "        (A - 1 / n ** n) * n_raised_2n * product(balances) * D \n",
    "        + \n",
    "        (- A * n_raised_2n * product(balances) * sum(balances))\n",
    "    )\n",
    "invariant_D(negative_record.A, negative_record.Root, negative_record.B0, negative_record.B1, negative_record.B2).values[0]"
   ]
  },
  {
   "cell_type": "code",
   "execution_count": null,
   "id": "90009008-1a4a-4e61-8e4c-3064ab5aa9c8",
   "metadata": {},
   "outputs": [],
   "source": [
    "# For posteriry: the dimensionless version\n",
    "def invariant_D_dimensionless(A: float, D: float, *balances: list) -> float: \n",
    "    \"\"\"Invariant polynomial divided by product of balances and then divided by D. \n",
    "    \n",
    "    My invariant polynomial is of units $ ^ (n + 1), if you squint, \n",
    "    and the dimensionless version is of unit $ ^ 0\n",
    "    \"\"\"\n",
    "    n = len(balances)\n",
    "    n_raised_2n = n ** (2 * n)\n",
    "    return (\n",
    "        product(D / b for b in balances) # D ^ 3 / Pi xi / D\n",
    "        +\n",
    "        (A - 1 / n ** n) * n_raised_2n\n",
    "        + \n",
    "        (- A * n_raised_2n * sum(balances) / D)\n",
    "    )\n",
    "invariant_D_dimensionless(negative_record.A, negative_record.Root, negative_record.B0, negative_record.B1, negative_record.B2).values[0]"
   ]
  },
  {
   "cell_type": "code",
   "execution_count": 127,
   "id": "978edc84-2007-42dc-935d-02a81eedb378",
   "metadata": {},
   "outputs": [
    {
     "data": {
      "text/plain": [
       "0         4.826473\n",
       "1         0.572642\n",
       "2       392.752882\n",
       "3         0.204309\n",
       "4        36.225581\n",
       "           ...    \n",
       "9995      1.428569\n",
       "9996      0.029338\n",
       "9997     12.233418\n",
       "9998      4.151837\n",
       "9999    262.232680\n",
       "Length: 10000, dtype: float64"
      ]
     },
     "execution_count": 127,
     "metadata": {},
     "output_type": "execute_result"
    }
   ],
   "source": [
    "product(dfD.D / b for b in [dfD.B0, dfD.B1, dfD.B2])"
   ]
  },
  {
   "cell_type": "code",
   "execution_count": 129,
   "id": "5bf197ad-5f50-4f8b-9b58-45a362587d2c",
   "metadata": {},
   "outputs": [
    {
     "data": {
      "text/plain": [
       "61938.0"
      ]
     },
     "execution_count": 129,
     "metadata": {},
     "output_type": "execute_result"
    }
   ],
   "source": [
    "(85 - 1 / 3 ** 3) * 3 ** (2 * 3)"
   ]
  },
  {
   "cell_type": "code",
   "execution_count": null,
   "id": "5f0fabfc-5363-41a9-bf92-ba711e50d927",
   "metadata": {},
   "outputs": [],
   "source": []
  }
 ],
 "metadata": {
  "kernelspec": {
   "display_name": "Python 3 (ipykernel)",
   "language": "python",
   "name": "python3"
  },
  "language_info": {
   "codemirror_mode": {
    "name": "ipython",
    "version": 3
   },
   "file_extension": ".py",
   "mimetype": "text/x-python",
   "name": "python",
   "nbconvert_exporter": "python",
   "pygments_lexer": "ipython3",
   "version": "3.9.5"
  }
 },
 "nbformat": 4,
 "nbformat_minor": 5
}
