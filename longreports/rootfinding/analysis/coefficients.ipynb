{
 "cells": [
  {
   "cell_type": "markdown",
   "id": "5fa2706f-6f81-489e-886b-867372c694b2",
   "metadata": {},
   "source": [
    "# Executive summary\n",
    "\n",
    "I use the jargon $S, T, U, V$ from `companion-solver-implementation-reference.pdf`\n",
    "\n",
    "1. something spooky: quadratic formula seems to work 54% of the time, while one of the coefficients is > 0 54% of the time. \n",
    "2. ok beyond the 54% coincidence, it's weird that the quadratic formula isn't working\n",
    "3. $S$ and $T$ are strongly anticorrelated. This could be bad for linear algebra.\n",
    "4. $U$ and $V$ are `-0.434316` anticorrelated, thank god."
   ]
  },
  {
   "cell_type": "code",
   "execution_count": 102,
   "id": "46df8551-2f7f-4675-a00b-b69798b5fa9b",
   "metadata": {},
   "outputs": [],
   "source": [
    "from functools import reduce, partial\n",
    "product = partial(reduce, lambda x,y: x * y)\n",
    "\n",
    "import jax.numpy as jnp\n",
    "from jax import random, vmap, grad\n",
    "\n",
    "import arviz as az\n",
    "from matplotlib import pyplot as plt\n",
    "from ipywidgets.widgets import FloatSlider\n",
    "from ipywidgets import interact\n",
    "from scipy.interpolate import BSpline\n",
    "from scipy.stats import gaussian_kde, zscore\n",
    "\n",
    "import numpyro\n",
    "import numpyro.distributions as dist\n",
    "import numpyro.optim as optim\n",
    "from numpyro.diagnostics import hpdi, print_summary\n",
    "from numpyro.infer import Predictive, SVI, Trace_ELBO, init_to_value, NUTS, MCMC\n",
    "from numpyro.infer.autoguide import AutoLaplaceApproximation, AutoNormal, AutoDiagonalNormal\n",
    "\n",
    "import xgboost as xgb\n",
    "\n",
    "import pandas as pd\n",
    "\n",
    "from report import Report\n",
    "\n",
    "key = random.PRNGKey(0)"
   ]
  },
  {
   "cell_type": "code",
   "execution_count": 103,
   "id": "2eb2fa2d-25a9-40be-b046-8c048e2b16ba",
   "metadata": {},
   "outputs": [],
   "source": [
    "\n",
    "reportD = Report(\"data/d-10262021.csv\", abso=False, unknown_feature=\"D\")\n",
    "reportB0 = Report(\"data/b0-10262021.csv\", abso=False, unknown_feature=\"B0\")\n",
    "reportB1 = Report(\"data/b1-10262021.csv\", abso=False, unknown_feature=\"B1\")\n",
    "reportB2 = Report(\"data/b2-10262021.csv\", abso=False, unknown_feature=\"B2\")\n"
   ]
  },
  {
   "cell_type": "code",
   "execution_count": 104,
   "id": "4363aa45-57eb-4a4e-900b-216ebb8994d8",
   "metadata": {},
   "outputs": [],
   "source": [
    "# doing something where the root doesn't matter\n",
    "df = pd.concat((reportD.df, reportB0.df, reportB1.df, reportB2.df)).drop([\"Root\", \"newton_delta\", \"squared_newton_delta\", \"Y\"], axis=1)"
   ]
  },
  {
   "cell_type": "code",
   "execution_count": 105,
   "id": "0834abe2-f81d-4e8a-b041-288312c658eb",
   "metadata": {},
   "outputs": [],
   "source": [
    "# see companion-solver-implementation-reference.pdf\n",
    "# I_k = xk^2 + V x + U\n",
    "def U_0(A, D, B1, B2):\n",
    "    return - D ** (3 + 1) / A / 3 ** (2 * 3) / B1 / B2\n",
    "def U_1(A, D, B0, B2): \n",
    "    return - D ** (3 + 1) / A / 3 ** (2 * 3) / B0 / B2\n",
    "def U_2(A, D, B0, B1): \n",
    "    return - D ** (3 + 1) / A / 3 ** (2 * 3) / B0 / B1\n",
    "\n",
    "def V_0(A, D, B1, B2): \n",
    "    return B1 + B2 + (1 / A / 3 ** 3 - 1) * D\n",
    "def V_1(A, D, B0, B2): \n",
    "    return B0 + B2 + (1 / A / 3 ** 3 - 1) * D\n",
    "def V_2(A, D, B0, B1): \n",
    "    return B0 + B1 + (1 / A / 3 ** 3 - 1) * D"
   ]
  },
  {
   "cell_type": "code",
   "execution_count": 106,
   "id": "e5bc1150-f868-4697-86e5-c3dd366e14c6",
   "metadata": {},
   "outputs": [
    {
     "data": {
      "text/plain": [
       "(0.0, 0.0, 0.0)"
      ]
     },
     "execution_count": 106,
     "metadata": {},
     "output_type": "execute_result"
    }
   ],
   "source": [
    "(U_0(85, df.D, df.B1, df.B2) > 0).sum() / df.shape[0], (U_1(85, df.D, df.B0, df.B2) > 0).sum() / df.shape[0], (U_2(85, df.D, df.B0, df.B1) > 0).sum() / df.shape[0]"
   ]
  },
  {
   "cell_type": "code",
   "execution_count": 107,
   "id": "bb53c3c2-008a-4ff3-8827-39edcaef9451",
   "metadata": {},
   "outputs": [
    {
     "data": {
      "text/plain": [
       "(0.5464, 0.542625, 0.544925)"
      ]
     },
     "execution_count": 107,
     "metadata": {},
     "output_type": "execute_result"
    }
   ],
   "source": [
    "# V is positive 50% of the time, well when you make `A` variable drawn from the data they each go exactly to 54 which is weird.\n",
    "(V_0(df.A, df.D, df.B1, df.B2) > 0).sum() / df.shape[0], (V_1(df.A, df.D, df.B0, df.B2) > 0).sum() / df.shape[0], (V_2(df.A, df.D, df.B0, df.B1) > 0).sum() / df.shape[0]"
   ]
  },
  {
   "cell_type": "code",
   "execution_count": 108,
   "id": "1cf6019c-0318-4155-a741-7868f48c892b",
   "metadata": {},
   "outputs": [
    {
     "data": {
      "text/plain": [
       "(-75082024999.88412, 74462246769.95874)"
      ]
     },
     "execution_count": 108,
     "metadata": {},
     "output_type": "execute_result"
    }
   ],
   "source": [
    "# quadratic formula\n",
    "def discriminant(V, U): \n",
    "    return V ** 2 - 4 * 1 * U\n",
    "def left(V): \n",
    "    return - V / 2 / 1\n",
    "\n",
    "def left_root(V, U): \n",
    "    return left(V) - discriminant(V, U) ** (1 / 2) / 2\n",
    "def right_root(V, U): \n",
    "    return left(V) + discriminant(V, U) ** (1 / 2) / 2\n",
    "\n",
    "left_root(V_0(85, df.D, df.B1, df.B2), U_0(85, df.D, df.B1, df.B2)).mean(), right_root(V_0(85, df.D, df.B1, df.B2), U_0(85, df.D, df.B1, df.B2)).mean()"
   ]
  },
  {
   "cell_type": "code",
   "execution_count": 109,
   "id": "0576b14d-1dff-4559-8ea9-5ad919e9c5cd",
   "metadata": {},
   "outputs": [
    {
     "data": {
      "text/plain": [
       "0.5427"
      ]
     },
     "execution_count": 109,
     "metadata": {},
     "output_type": "execute_result"
    }
   ],
   "source": [
    "V = V_0(df.A, df.D, df.B1, df.B2)\n",
    "U = U_0(df.A, df.D, df.B1, df.B2)\n",
    "root = right_root(V, U)\n",
    "(root ** 2 + V * root + U < 1e-7).sum() / df.shape[0]# :( should be zero"
   ]
  },
  {
   "cell_type": "code",
   "execution_count": 110,
   "id": "c1a27b44-56c8-4020-ab4b-16d0d3ad9470",
   "metadata": {},
   "outputs": [],
   "source": [
    "# I_D = D ^ {n + 1} + T * D + S\n",
    "def S(A, *balances): \n",
    "    n = len(balances)\n",
    "    return - A * n ** (2 * n) * product(balances) * sum(balances)\n",
    "\n",
    "def T(A, *balances): \n",
    "    n = len(balances)\n",
    "    return (A + 1 / n ** n) * n ** (2 * n) * product(balances)"
   ]
  },
  {
   "cell_type": "code",
   "execution_count": 119,
   "id": "fa6412dd-30b5-45dd-b466-3bca6d611b1d",
   "metadata": {},
   "outputs": [
    {
     "data": {
      "text/html": [
       "<div>\n",
       "<style scoped>\n",
       "    .dataframe tbody tr th:only-of-type {\n",
       "        vertical-align: middle;\n",
       "    }\n",
       "\n",
       "    .dataframe tbody tr th {\n",
       "        vertical-align: top;\n",
       "    }\n",
       "\n",
       "    .dataframe thead th {\n",
       "        text-align: right;\n",
       "    }\n",
       "</style>\n",
       "<table border=\"1\" class=\"dataframe\">\n",
       "  <thead>\n",
       "    <tr style=\"text-align: right;\">\n",
       "      <th></th>\n",
       "      <th>S</th>\n",
       "      <th>T</th>\n",
       "    </tr>\n",
       "  </thead>\n",
       "  <tbody>\n",
       "    <tr>\n",
       "      <th>S</th>\n",
       "      <td>1.000000</td>\n",
       "      <td>-0.980513</td>\n",
       "    </tr>\n",
       "    <tr>\n",
       "      <th>T</th>\n",
       "      <td>-0.980513</td>\n",
       "      <td>1.000000</td>\n",
       "    </tr>\n",
       "  </tbody>\n",
       "</table>\n",
       "</div>"
      ],
      "text/plain": [
       "          S         T\n",
       "S  1.000000 -0.980513\n",
       "T -0.980513  1.000000"
      ]
     },
     "execution_count": 119,
     "metadata": {},
     "output_type": "execute_result"
    }
   ],
   "source": [
    "S_A85 = S(85, df.B0, df.B1, df.B2)\n",
    "T_A85 = T(85, df.B0, df.B1, df.B2)\n",
    "df = df.assign(S=S_A85, T=T_A85)\n",
    "downsampled = df.sample(frac=0.1)\n",
    "df[[\"S\", \"T\"]].corr()"
   ]
  },
  {
   "cell_type": "code",
   "execution_count": 120,
   "id": "182c92eb-ff91-4a67-8368-8285f260a114",
   "metadata": {},
   "outputs": [],
   "source": [
    "df = df.assign(V_0=V, U_0=U)"
   ]
  },
  {
   "cell_type": "code",
   "execution_count": 121,
   "id": "54c1c47d-7504-4e42-a893-70ad07a03fca",
   "metadata": {},
   "outputs": [
    {
     "data": {
      "text/html": [
       "<div>\n",
       "<style scoped>\n",
       "    .dataframe tbody tr th:only-of-type {\n",
       "        vertical-align: middle;\n",
       "    }\n",
       "\n",
       "    .dataframe tbody tr th {\n",
       "        vertical-align: top;\n",
       "    }\n",
       "\n",
       "    .dataframe thead th {\n",
       "        text-align: right;\n",
       "    }\n",
       "</style>\n",
       "<table border=\"1\" class=\"dataframe\">\n",
       "  <thead>\n",
       "    <tr style=\"text-align: right;\">\n",
       "      <th></th>\n",
       "      <th>V_0</th>\n",
       "      <th>U_0</th>\n",
       "    </tr>\n",
       "  </thead>\n",
       "  <tbody>\n",
       "    <tr>\n",
       "      <th>V_0</th>\n",
       "      <td>1.000000</td>\n",
       "      <td>-0.434316</td>\n",
       "    </tr>\n",
       "    <tr>\n",
       "      <th>U_0</th>\n",
       "      <td>-0.434316</td>\n",
       "      <td>1.000000</td>\n",
       "    </tr>\n",
       "  </tbody>\n",
       "</table>\n",
       "</div>"
      ],
      "text/plain": [
       "          V_0       U_0\n",
       "V_0  1.000000 -0.434316\n",
       "U_0 -0.434316  1.000000"
      ]
     },
     "execution_count": 121,
     "metadata": {},
     "output_type": "execute_result"
    }
   ],
   "source": [
    "df[[\"V_0\", \"U_0\"]].corr()"
   ]
  },
  {
   "cell_type": "code",
   "execution_count": null,
   "id": "1a540b93-12d7-43e5-afe3-73cf5d68f460",
   "metadata": {},
   "outputs": [],
   "source": []
  }
 ],
 "metadata": {
  "kernelspec": {
   "display_name": "Python 3 (ipykernel)",
   "language": "python",
   "name": "python3"
  },
  "language_info": {
   "codemirror_mode": {
    "name": "ipython",
    "version": 3
   },
   "file_extension": ".py",
   "mimetype": "text/x-python",
   "name": "python",
   "nbconvert_exporter": "python",
   "pygments_lexer": "ipython3",
   "version": "3.9.5"
  }
 },
 "nbformat": 4,
 "nbformat_minor": 5
}
