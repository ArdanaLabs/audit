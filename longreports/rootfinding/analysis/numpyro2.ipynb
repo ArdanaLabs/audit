{
 "cells": [
  {
   "cell_type": "code",
   "execution_count": 7,
   "id": "33d29eca-65ff-48dd-bae0-df05ba4b0733",
   "metadata": {},
   "outputs": [],
   "source": [
    "from functools import reduce, partial\n",
    "product = partial(reduce, lambda x,y: x * y)\n",
    "\n",
    "import jax.numpy as jnp\n",
    "from jax import random, vmap, grad\n",
    "\n",
    "import arviz as az\n",
    "from matplotlib import pyplot as plt\n",
    "from ipywidgets.widgets import FloatSlider\n",
    "from ipywidgets import interact\n",
    "from scipy.interpolate import BSpline\n",
    "from scipy.stats import gaussian_kde, zscore\n",
    "\n",
    "import numpyro\n",
    "import numpyro.distributions as dist\n",
    "import numpyro.optim as optim\n",
    "from numpyro.diagnostics import hpdi, print_summary\n",
    "from numpyro.infer import Predictive, SVI, Trace_ELBO, init_to_value, NUTS, MCMC\n",
    "from numpyro.infer.autoguide import AutoLaplaceApproximation, AutoNormal, AutoDiagonalNormal\n",
    "\n",
    "import xgboost as xgb\n",
    "\n",
    "import pandas as pd\n",
    "\n",
    "from clean import Clean\n",
    "\n",
    "key = random.PRNGKey(0)"
   ]
  },
  {
   "cell_type": "code",
   "execution_count": 3,
   "id": "f8bcda78-0e2b-4f45-a653-6ba01924bf03",
   "metadata": {},
   "outputs": [
    {
     "data": {
      "text/html": [
       "<div>\n",
       "<style scoped>\n",
       "    .dataframe tbody tr th:only-of-type {\n",
       "        vertical-align: middle;\n",
       "    }\n",
       "\n",
       "    .dataframe tbody tr th {\n",
       "        vertical-align: top;\n",
       "    }\n",
       "\n",
       "    .dataframe thead th {\n",
       "        text-align: right;\n",
       "    }\n",
       "</style>\n",
       "<table border=\"1\" class=\"dataframe\">\n",
       "  <thead>\n",
       "    <tr style=\"text-align: right;\">\n",
       "      <th></th>\n",
       "      <th>A</th>\n",
       "      <th>D</th>\n",
       "      <th>B0</th>\n",
       "      <th>B1</th>\n",
       "      <th>B2</th>\n",
       "      <th>Root</th>\n",
       "      <th>Y</th>\n",
       "      <th>newton_delta</th>\n",
       "      <th>squared_newton_delta</th>\n",
       "    </tr>\n",
       "  </thead>\n",
       "  <tbody>\n",
       "    <tr>\n",
       "      <th>0</th>\n",
       "      <td>3.006537</td>\n",
       "      <td>4.521234e+11</td>\n",
       "      <td>1.877143e+11</td>\n",
       "      <td>3.682367e+09</td>\n",
       "      <td>4.616150e+10</td>\n",
       "      <td>-8.184270e+10</td>\n",
       "      <td>-1.204838e-08</td>\n",
       "      <td>1.280042e+11</td>\n",
       "      <td>1.638507e+22</td>\n",
       "    </tr>\n",
       "    <tr>\n",
       "      <th>1</th>\n",
       "      <td>2.252032</td>\n",
       "      <td>3.242883e+11</td>\n",
       "      <td>1.049468e+11</td>\n",
       "      <td>1.266971e+11</td>\n",
       "      <td>1.270974e+11</td>\n",
       "      <td>9.277215e+10</td>\n",
       "      <td>-1.812794e-07</td>\n",
       "      <td>3.432522e+10</td>\n",
       "      <td>1.178221e+21</td>\n",
       "    </tr>\n",
       "    <tr>\n",
       "      <th>2</th>\n",
       "      <td>1.047534</td>\n",
       "      <td>1.905252e+11</td>\n",
       "      <td>3.068875e+11</td>\n",
       "      <td>9.588425e+10</td>\n",
       "      <td>1.370219e+11</td>\n",
       "      <td>2.674530e+08</td>\n",
       "      <td>-4.008832e-08</td>\n",
       "      <td>1.367544e+11</td>\n",
       "      <td>1.870177e+22</td>\n",
       "    </tr>\n",
       "    <tr>\n",
       "      <th>3</th>\n",
       "      <td>4.034365</td>\n",
       "      <td>5.000290e+10</td>\n",
       "      <td>1.776733e+11</td>\n",
       "      <td>2.439855e+11</td>\n",
       "      <td>1.828785e+11</td>\n",
       "      <td>1.317694e+05</td>\n",
       "      <td>-3.244612e-05</td>\n",
       "      <td>1.828784e+11</td>\n",
       "      <td>3.344451e+22</td>\n",
       "    </tr>\n",
       "    <tr>\n",
       "      <th>4</th>\n",
       "      <td>1.396830</td>\n",
       "      <td>2.371336e+11</td>\n",
       "      <td>1.062002e+10</td>\n",
       "      <td>1.470824e+10</td>\n",
       "      <td>1.025206e+11</td>\n",
       "      <td>-7.170986e+10</td>\n",
       "      <td>-6.604643e-09</td>\n",
       "      <td>1.742305e+11</td>\n",
       "      <td>3.035627e+22</td>\n",
       "    </tr>\n",
       "  </tbody>\n",
       "</table>\n",
       "</div>"
      ],
      "text/plain": [
       "          A             D            B0            B1            B2  \\\n",
       "0  3.006537  4.521234e+11  1.877143e+11  3.682367e+09  4.616150e+10   \n",
       "1  2.252032  3.242883e+11  1.049468e+11  1.266971e+11  1.270974e+11   \n",
       "2  1.047534  1.905252e+11  3.068875e+11  9.588425e+10  1.370219e+11   \n",
       "3  4.034365  5.000290e+10  1.776733e+11  2.439855e+11  1.828785e+11   \n",
       "4  1.396830  2.371336e+11  1.062002e+10  1.470824e+10  1.025206e+11   \n",
       "\n",
       "           Root             Y  newton_delta  squared_newton_delta  \n",
       "0 -8.184270e+10 -1.204838e-08  1.280042e+11          1.638507e+22  \n",
       "1  9.277215e+10 -1.812794e-07  3.432522e+10          1.178221e+21  \n",
       "2  2.674530e+08 -4.008832e-08  1.367544e+11          1.870177e+22  \n",
       "3  1.317694e+05 -3.244612e-05  1.828784e+11          3.344451e+22  \n",
       "4 -7.170986e+10 -6.604643e-09  1.742305e+11          3.035627e+22  "
      ]
     },
     "execution_count": 3,
     "metadata": {},
     "output_type": "execute_result"
    }
   ],
   "source": [
    "cleanB2 = Clean(\"data/b2-10262021.csv\", abso=False, unknown_feature=\"B2\")\n",
    "dfB2 = cleanB2.df\n",
    "dfB2.head()"
   ]
  },
  {
   "cell_type": "code",
   "execution_count": 5,
   "id": "70be3584-978b-4f70-a80f-73021f332171",
   "metadata": {},
   "outputs": [
    {
     "name": "stdout",
     "output_type": "stream",
     "text": [
      "(1521, 9)\n"
     ]
    }
   ],
   "source": []
  },
  {
   "cell_type": "code",
   "execution_count": 10,
   "id": "c39b8e2c-8cd3-44e1-bbc8-746389354866",
   "metadata": {},
   "outputs": [],
   "source": [
    "\n",
    "def dimension1_invariant_D(A: float, D: float, *balances: list) -> float: \n",
    "    \"\"\"invariant divided by product of balances\"\"\"\n",
    "    n = len(balances)\n",
    "    n_raised_2n = n ** (2 * n)\n",
    "    return (\n",
    "        product(D / b for b in balances) * D\n",
    "        +\n",
    "        (A - n ** (- n)) * n_raised_2n * D\n",
    "        + \n",
    "        (- A * n_raised_2n * sum(balances))\n",
    "    )\n",
    "\n",
    "def dimensionless_invariant_D(A: float, D: float, *balances: list) -> float: \n",
    "    \"\"\"invariant divided by product of balances divided by D\"\"\"\n",
    "    n = len(balances)\n",
    "    n_raised_2n = n ** (2 * n)\n",
    "    return (\n",
    "        product(D / b for b in balances)\n",
    "        +\n",
    "        (A - 1 / n ** n) * n_raised_2n\n",
    "        + \n",
    "        (- A * n_raised_2n * sum(balances) / D)\n",
    "    )\n",
    "\n",
    "def invariant_B2(A: float, D: float, b0: float, b1: float, b2: float) -> float: \n",
    "    \"\"\" \"\"\"\n",
    "    n = 3 \n",
    "    return (\n",
    "        b2 ** 2 \n",
    "        + \n",
    "        (b0 + b1 + (1 / A / n ** n - 1) * D) * b2\n",
    "        + \n",
    "        (- D ** (n + 1)) / A / n ** (2 * n) / b0 / b1\n",
    "    )\n",
    "\n",
    "def dimensionless_invariant_B2(A: float, D: float, b0: float, b1: float, b2: float) -> float: \n",
    "    \"\"\"Divide by D ^ 2\"\"\"\n",
    "    n = 3\n",
    "    return (\n",
    "        (b2 / D) ** 2\n",
    "        + \n",
    "        ((b0 + b1) / D ** 2 + (1 / A / n ** n - 1) / D) * b2\n",
    "        + \n",
    "        (- D ** (n + 1 - 2)) / A / n ** (2 * n) / b0 / b1\n",
    "    )\n"
   ]
  },
  {
   "cell_type": "code",
   "execution_count": 20,
   "id": "7893093d-d383-42bb-980c-17eba7ce29f8",
   "metadata": {},
   "outputs": [
    {
     "data": {
      "text/plain": [
       "invariant_root                   5756\n",
       "dimensionless_invariant_root    10000\n",
       "dtype: int64"
      ]
     },
     "execution_count": 20,
     "metadata": {},
     "output_type": "execute_result"
    }
   ],
   "source": [
    "dfB2 = dfB2.assign(\n",
    "    invariant_root=invariant_B2(dfB2.A, dfB2.D, dfB2.B0, dfB2.B1, dfB2.Root), \n",
    "    dimensionless_invariant_root=dimensionless_invariant_B2(dfB2.A, dfB2.D, dfB2.B0, dfB2.B1, dfB2.Root),\n",
    "    invariant=invariant_B2(dfB2.A, dfB2.D, dfB2.B0, dfB2.B1, dfB2.B2), \n",
    "    dimensionless_invariant=dimensionless_invariant_B2(dfB2.A, dfB2.D, dfB2.B0, dfB2.B1, dfB2.B2)\n",
    ")\n",
    "(dfB2[[\"invariant_root\", \"dimensionless_invariant_root\"]] < 1e-7).sum()"
   ]
  },
  {
   "cell_type": "code",
   "execution_count": 21,
   "id": "27646244-c108-4c6f-aa7a-4be29656ed37",
   "metadata": {},
   "outputs": [
    {
     "name": "stdout",
     "output_type": "stream",
     "text": [
      "(1521, 13)\n"
     ]
    },
    {
     "data": {
      "text/plain": [
       "invariant_root                   984\n",
       "dimensionless_invariant_root    1521\n",
       "dtype: int64"
      ]
     },
     "execution_count": 21,
     "metadata": {},
     "output_type": "execute_result"
    }
   ],
   "source": [
    "negroot = dfB2[dfB2.Root < 0]\n",
    "print(negroot.shape)\n",
    "(negroot[[\"invariant_root\", \"dimensionless_invariant_root\"]] < 1e-7).sum()"
   ]
  },
  {
   "cell_type": "code",
   "execution_count": 22,
   "id": "8d576627-729b-4a91-9e8f-f4cab10eba2e",
   "metadata": {},
   "outputs": [
    {
     "data": {
      "text/plain": [
       "A                               3.463852e-04\n",
       "D                               1.233141e+06\n",
       "B0                              1.520559e+07\n",
       "B1                              2.343430e+06\n",
       "B2                              1.033991e+07\n",
       "Root                           -1.144398e+13\n",
       "Y                              -3.587333e-01\n",
       "newton_delta                   -2.120166e+13\n",
       "squared_newton_delta            1.742624e+14\n",
       "invariant                      -4.505295e+26\n",
       "dimensionless_invariant        -4.200342e+03\n",
       "invariant_root                 -1.030792e+11\n",
       "dimensionless_invariant_root   -9.094947e-13\n",
       "dtype: float64"
      ]
     },
     "execution_count": 22,
     "metadata": {},
     "output_type": "execute_result"
    }
   ],
   "source": [
    "dfB2.min()"
   ]
  },
  {
   "cell_type": "code",
   "execution_count": null,
   "id": "c69c74e4-d874-4f58-93b2-4a742fab5382",
   "metadata": {},
   "outputs": [],
   "source": []
  },
  {
   "cell_type": "code",
   "execution_count": 6,
   "id": "544cf5d7-3816-43e7-b797-c0dcf421b585",
   "metadata": {},
   "outputs": [],
   "source": [
    "dat = dfB2 # \n",
    "\n",
    "def model(D, B0, B1, B2, Root=None):\n",
    "    \"\"\"Get the posterior distribution of Root values.\n",
    "    \"\"\"\n",
    "    LEN_BALANCES = 3\n",
    "    A = 85\n",
    "\n",
    "    numpyro.sample(\"root\", dist.Normal(Root.mean(), Root.std()))\n",
    "    sigma = numpyro.sample(\"sigma\", dist.Uniform(0, I.std()))\n",
    "\n",
    "    numpyro.sample(\"inv_D\", dist.Normal(I, sigma), obs=inv_D)\n",
    "\n",
    "\n",
    "quap = AutoLaplaceApproximation(model)\n",
    "svi = SVI(\n",
    "    model,\n",
    "    quap,\n",
    "    optim.Adam(1),\n",
    "    Trace_ELBO(),\n",
    "    D=df_z.D.values,\n",
    "    inv_D=df_z.Y.values,\n",
    ")\n",
    "svi_result = svi.run(random.PRNGKey(0), 2000)\n",
    "params_svi_result = svi_result.params\n",
    "\n",
    "samples = quap.sample_posterior(random.PRNGKey(1), params_svi_result, (1000,))\n",
    "print_summary({key: value for key, value in samples.items() if key != \"I\"}, 0.89, False)"
   ]
  },
  {
   "cell_type": "code",
   "execution_count": null,
   "id": "39f7cb06-2308-4e6c-911d-90b7e0e3ea5f",
   "metadata": {},
   "outputs": [],
   "source": []
  }
 ],
 "metadata": {
  "kernelspec": {
   "display_name": "Python 3 (ipykernel)",
   "language": "python",
   "name": "python3"
  },
  "language_info": {
   "codemirror_mode": {
    "name": "ipython",
    "version": 3
   },
   "file_extension": ".py",
   "mimetype": "text/x-python",
   "name": "python",
   "nbconvert_exporter": "python",
   "pygments_lexer": "ipython3",
   "version": "3.9.5"
  }
 },
 "nbformat": 4,
 "nbformat_minor": 5
}
