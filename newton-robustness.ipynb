{
 "cells": [
  {
   "cell_type": "markdown",
   "id": "522e893d",
   "metadata": {},
   "source": [
    "# Robustness of Newton's Method\n",
    "\n",
    "### _[Pile item](https://github.com/ArdanaLabs/audit/issues/4)_"
   ]
  },
  {
   "cell_type": "markdown",
   "id": "e988ab0b",
   "metadata": {},
   "source": [
    "The invariant equation from pg5 of the stableswap paper can be interpreted as a _polynomial function_ $f$ which is set to zero. \n",
    "\n",
    "At runtime of the solver, $n$ and all $x_i$ are known. The optimal value for parameter $A$ is discovered by simulation and known by the programmer. \n",
    "\n",
    "$$f = D \\mapsto \\frac{-1}{n^n \\Pi x_i} D^{n+1} + (1 - A n^n) D + A n^n \\Sigma x_i \\\\\n",
    "f' = D \\mapsto \\frac{- (n + 1)}{n^n \\Pi x_i} D^n + (1 - A n^n) \\\\\n",
    "f'' = D \\mapsto \\frac{- (n + 1)}{n^{n-1} \\Pi x_i} D^{n - 1}$$\n",
    "\n",
    "Conveniently for us, $f' D = 0$ can be solved directly (as can $f'' D = 0$)\n",
    "$$D = \\left(\\frac{(n^{-n} - A) n^{2n} \\Pi x_i}{n + 1} \\right)^{\\frac{1}{n}}$$\n",
    "where almost surely $A > n^{-n}$. As such, we have to think through all the implications of `nth` roots of negative numbers, recalling that $\\forall x < 0, \\exists x^{1/n} \\in \\mathbb{R} \\iff \\text{odd}\\ n$ also having that $x^{1/n}$ is nonunique, and $\\forall x < 0, x^{1/n} \\in \\mathbb{C}$ whenever $\\text{even}\\ n$ and also nonunique. "
   ]
  },
  {
   "cell_type": "markdown",
   "id": "cfa68de0",
   "metadata": {},
   "source": []
  }
 ],
 "metadata": {
  "kernelspec": {
   "display_name": "Python 3",
   "language": "python",
   "name": "python3"
  },
  "language_info": {
   "codemirror_mode": {
    "name": "ipython",
    "version": 3
   },
   "file_extension": ".py",
   "mimetype": "text/x-python",
   "name": "python",
   "nbconvert_exporter": "python",
   "pygments_lexer": "ipython3",
   "version": "3.8.5"
  }
 },
 "nbformat": 4,
 "nbformat_minor": 5
}
