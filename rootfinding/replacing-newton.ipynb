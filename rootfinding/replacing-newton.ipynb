{
 "cells": [
  {
   "cell_type": "markdown",
   "id": "fedefdec",
   "metadata": {},
   "source": [
    "# So I had an idea...\n",
    "the idea is to appropriate the derivative of some error surface idea from gradient descent, for rootfinding. "
   ]
  },
  {
   "cell_type": "code",
   "execution_count": 29,
   "id": "801822ca",
   "metadata": {},
   "outputs": [],
   "source": [
    "from functools import partial\n",
    "\n",
    "b = -10\n",
    "a = 10\n",
    "# c = 10\n",
    "\n",
    "n = 5\n",
    "\n",
    "f = lambda x: x ** (n + 1) + a * x + b\n",
    "\n",
    "f_squared = lambda x: f(x) ** 2\n",
    "\n",
    "f_prime = lambda x: (n + 1) * x ** n + a\n",
    "\n",
    "squiggle_f = lambda x: (1 / (n + 2)) * x ** (n + 2) + (a / 2) * x ** 2 + b * x#  + c\n",
    "\n",
    "def abs_prime(x: float) -> float: \n",
    "    \"\"\"technically D abs is undefined at zero, but yolo\"\"\"\n",
    "    if x < 0: \n",
    "        return - 1\n",
    "    return 1\n",
    "\n",
    "def power_rule(n: int, f: callable, f_prime: callable) -> callable: \n",
    "    return lambda x: n * f(x) ** (n - 1) * f_prime(x)\n",
    "\n",
    "square_rule = partial(power_rule, 2)\n",
    "\n",
    "def derivative_abs_compose(f: callable, f_prime: callable) -> callable: \n",
    "    return lambda x: abs_prime(f(x)) * f_prime(x)\n",
    "\n",
    "derivative_abs_compose_f = derivative_abs_compose(f, f_prime)\n",
    "derivative_abs_compose_squigglef = derivative_abs_compose(squiggle_f, f_prime)\n"
   ]
  },
  {
   "cell_type": "code",
   "execution_count": 35,
   "id": "c6adfd38",
   "metadata": {},
   "outputs": [
    {
     "name": "stdout",
     "output_type": "stream",
     "text": [
      "0.9337288329691947 -4.889641662886052 -1.1084466677857563e-12\n"
     ]
    }
   ],
   "source": [
    "# using signed derivative instead of unsigned. \n",
    "# squiggle(f)\n",
    "num_iters = int(1e7)\n",
    "\n",
    "guess = 0\n",
    "learning_rate = 5e-5\n",
    "\n",
    "epsilon = 1e-14\n",
    "\n",
    "for _ in range(num_iters):\n",
    "    guess = guess - learning_rate * f(guess)\n",
    "    \n",
    "    if abs(squiggle_f(guess)) < epsilon: \n",
    "        break\n",
    "        \n",
    "print(guess, squiggle_f(guess), f(guess))\n"
   ]
  },
  {
   "cell_type": "code",
   "execution_count": 34,
   "id": "21bf0cd6",
   "metadata": {},
   "outputs": [
    {
     "name": "stdout",
     "output_type": "stream",
     "text": [
      "-1.1075663432482852 16.917107264370372 -19.229719527069083\n"
     ]
    }
   ],
   "source": [
    "# squiggle(f)\n",
    "num_iters = int(1e7)\n",
    "\n",
    "guess = 0\n",
    "learning_rate = 5e-4\n",
    "\n",
    "epsilon = 1e-14\n",
    "\n",
    "for _ in range(num_iters):\n",
    "    guess = guess - learning_rate * derivative_abs_compose_squigglef(guess)\n",
    "    \n",
    "    if abs(squiggle_f(guess)) < epsilon: \n",
    "        break\n",
    "        \n",
    "print(guess, squiggle_f(guess), f(guess))\n"
   ]
  },
  {
   "cell_type": "code",
   "execution_count": 16,
   "id": "0a612446",
   "metadata": {},
   "outputs": [
    {
     "name": "stdout",
     "output_type": "stream",
     "text": [
      "-1.1075663432482898 369.782113089742 -19.229719527069083 5.329070518200751e-15\n"
     ]
    }
   ],
   "source": [
    "# f^2 x\n",
    "num_iters = int(1e7)\n",
    "\n",
    "guess = 0\n",
    "learning_rate = 5e-4\n",
    "\n",
    "epsilon = 1e-14\n",
    "\n",
    "for _ in range(num_iters):\n",
    "    guess = guess + learning_rate * square_rule(f, f_prime)(guess)\n",
    "    \n",
    "    if abs(f_squared(guess)) < epsilon: \n",
    "        break\n",
    "        \n",
    "print(guess, f_squared(guess), f(guess), f_prime(guess))"
   ]
  },
  {
   "cell_type": "code",
   "execution_count": 17,
   "id": "4c2b17a9",
   "metadata": {},
   "outputs": [
    {
     "name": "stdout",
     "output_type": "stream",
     "text": [
      "-1.1075663432482852 -19.229719527069083 2.149391775674303e-13\n"
     ]
    }
   ],
   "source": [
    "# |f x|\n",
    "num_iters = int(1e7)\n",
    "\n",
    "guess = 0\n",
    "learning_rate = 5e-4\n",
    "\n",
    "epsilon = 1e-14\n",
    "\n",
    "for _ in range(num_iters):\n",
    "    guess = guess + learning_rate * derivative_abs_compose_f(guess)\n",
    "    \n",
    "    if abs(f(guess)) < epsilon: \n",
    "        break\n",
    "        \n",
    "print(guess, f(guess), f_prime(guess))"
   ]
  },
  {
   "cell_type": "code",
   "execution_count": null,
   "id": "1be52039",
   "metadata": {},
   "outputs": [],
   "source": []
  },
  {
   "cell_type": "code",
   "execution_count": null,
   "id": "047a4fda",
   "metadata": {},
   "outputs": [],
   "source": []
  }
 ],
 "metadata": {
  "kernelspec": {
   "display_name": "Python 3",
   "language": "python",
   "name": "python3"
  },
  "language_info": {
   "codemirror_mode": {
    "name": "ipython",
    "version": 3
   },
   "file_extension": ".py",
   "mimetype": "text/x-python",
   "name": "python",
   "nbconvert_exporter": "python",
   "pygments_lexer": "ipython3",
   "version": "3.8.5"
  }
 },
 "nbformat": 4,
 "nbformat_minor": 5
}
